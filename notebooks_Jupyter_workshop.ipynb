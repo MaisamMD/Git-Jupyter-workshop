{
  "metadata": {
    "language_info": {
      "codemirror_mode": {
        "name": "python",
        "version": 3
      },
      "file_extension": ".py",
      "mimetype": "text/x-python",
      "name": "python",
      "nbconvert_exporter": "python",
      "pygments_lexer": "ipython3",
      "version": "3.8"
    },
    "kernelspec": {
      "name": "python",
      "display_name": "Python (Pyodide)",
      "language": "python"
    }
  },
  "nbformat_minor": 4,
  "nbformat": 4,
  "cells": [
    {
      "cell_type": "markdown",
      "source": "## 1. Writing codes in cells and run them separately",
      "metadata": {
        "tags": []
      }
    },
    {
      "cell_type": "code",
      "source": "number1 = 5\nnumber2 = 10\nresult = number1 + number2\nprint(result)",
      "metadata": {
        "trusted": true
      },
      "execution_count": null,
      "outputs": []
    },
    {
      "cell_type": "code",
      "source": "Average = result/2\nprint(Average)",
      "metadata": {
        "trusted": true
      },
      "execution_count": null,
      "outputs": []
    },
    {
      "cell_type": "markdown",
      "source": "## 2. Writing documention in stylish format using Markdown cells\nYou can use Markdown syntax to write documentation for your code project. This make it much more easier for others to understand and follow your codes. Here are some tips about using Markdown:\n\n### Writing style\n- Chapter 1\nYou can use Markdown (.md) to write stylish README file which is easy readable by human and machine.You can write:\nNormal text, _Italic text_, and **Bold text**\nalso you can use bullet points:\n\n- Type some Markdown on the left\n- See HTML in the right\n- Magic\n\nYou can use +, -, * to make a list:\n\n* first item\n* second item\n* etc.\n\nand numbering list:\n\n1. 1st item\n2. second item\n3. ...\n\n\nYou can write text as a quote:\n\n> The overriding design goal for Markdown's\n> formatting syntax is to make it as readable\n> as possible. The idea is that a\n> Markdown-formatted document should be\n> publishable as-is, as plain text, without\n> looking like it's been marked up with tags\n> or formatting instructions.\n\nYou can provide a link in your md file like this [Utrecht University Website](https://UU.nl).\n\nThe code blocks can be shown in different style using Tab or more than 3 spaces:\n\n\n    cd dillinger \n    npm i\n    node app\n\n\n### Writing formula\n\nUse double dollar sign to write mathematical formulas like Euler's formula is remarkable: $$e^{i\\pi} + 1 = 0$$\n\n### Making table\nYou can easily make table in using markdown.\n\n| Plugin | README |\n| ------ | ------ |\n| Dropbox | [plugins/dropbox/README.md][PlDb] |\n| GitHub | [plugins/github/README.md][PlGh] |\n| Google Drive | [plugins/googledrive/README.md][PlGd] |\n| OneDrive | [plugins/onedrive/README.md][PlOd] |\n| Medium | [plugins/medium/README.md][PlMe] |\n| Google Analytics | [plugins/googleanalytics/README.md][PlGa] |\n\n### Adding image\n\nYou can add image using following sintax:\n\n![Utrecht University logo](https://www.uu.nl/sites/default/files/styles/image_1600xn/public/cm_hs_new_logo_2021.png?mt=1627028615&itok=0e4AIjFy)\n\n### Using refrences\nYou can make a list of your references or links and refer to them in the text. For example:\nIn the [Utrecht University][UUwebsite] you know more about the Utrecht University. In the [Geo data support website][GEoDataSite] you can find more information about data related topics.\n\n[//]: # (These are reference links used in the body of this note and get stripped out when the markdown processor does its job. There is no need to format nicely because it shouldn't be seen.)\n\n[UUwebsite]: <https://www.uu.nl>\n[GeoDataSite]: <https://geo-data-support.sites.uu.nl/>   \n  \n",
      "metadata": {
        "tags": []
      }
    },
    {
      "cell_type": "markdown",
      "source": "## 3. Importing and using pyhton libraries in Jupyter Notebook\n\nHere we use a few basic python libraries to define a quadratic function $$y=ax^2+bx+c$$ and draw it as a graph. ",
      "metadata": {
        "tags": []
      }
    },
    {
      "cell_type": "code",
      "source": "import numpy as np\nimport matplotlib.pyplot as plt\n# Define a quadratic function\ndef plot_quadratic(a, b, c):\n    x = np.linspace(-10, 10, 400)\n    y = a * x**2 + b * x + c\n    \n    plt.figure(figsize=(8, 6))\n    plt.plot(x, y, label=f'{a}x^2 + {b}x + {c}')\n    plt.xlabel('x')\n    plt.ylabel('y')\n    plt.title('Quadratic Function')\n    plt.grid(True)\n    plt.legend()\n    plt.show()\n\nplot_quadratic(1, 2, 3)",
      "metadata": {
        "trusted": true
      },
      "execution_count": null,
      "outputs": []
    },
    {
      "cell_type": "markdown",
      "source": "## 4. Install libraries in JupyterNotebook\n\nYou can easily install any libariries that you need for running codes on Jupyter Notebook using magic \"%pip install\" command. Here we install ipywidgets module. ",
      "metadata": {
        "tags": []
      }
    },
    {
      "cell_type": "code",
      "source": "%pip install ipywidgets",
      "metadata": {
        "trusted": true
      },
      "execution_count": null,
      "outputs": []
    },
    {
      "cell_type": "markdown",
      "source": "## 5. Make interactive output using Ipythonwidgets\n\nYou can use the power of Ipython Widget to add interactive features to the outputs or create graphical user interface inside Jupyter Notebooks. Here we use it to add interactive features to the above quadratic graph.",
      "metadata": {
        "tags": []
      }
    },
    {
      "cell_type": "code",
      "source": "import ipywidgets as widgets\nfrom IPython.display import display\nfrom ipywidgets import interactive\n\n# Create slider widgets for the parameters a, b, and c\na_slider = widgets.FloatSlider(value=1.0, min=-5.0, max=5.0, step=0.1, description='a:')\nb_slider = widgets.FloatSlider(value=0.0, min=-5.0, max=5.0, step=0.1, description='b:')\nc_slider = widgets.FloatSlider(value=0.0, min=-5.0, max=5.0, step=0.1, description='c:')\n\n# Use the interactive function to link the widgets to the plot function\ninteractive_plot = interactive(plot_quadratic, a=a_slider, b=b_slider, c=c_slider)\n\n# Display the interactive plot\ndisplay(interactive_plot)",
      "metadata": {
        "trusted": true
      },
      "execution_count": null,
      "outputs": []
    },
    {
      "cell_type": "code",
      "source": "",
      "metadata": {},
      "execution_count": null,
      "outputs": []
    }
  ]
}